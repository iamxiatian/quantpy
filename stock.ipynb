{
 "cells": [
  {
   "cell_type": "code",
   "execution_count": 23,
   "metadata": {
    "collapsed": false
   },
   "outputs": [
    {
     "name": "stdout",
     "output_type": "stream",
     "text": [
      "True\n",
      "[ 0.44308778  0.34038468  0.6343543   0.60580054 -0.55032128]\n",
      "[ 0.12359246  0.3541178  -0.8193287  -1.77854005  0.8808503 ]\n",
      "[ 2.56718134 -0.77409637  1.03937281  0.76907949 -0.01127842]\n",
      "[ 0.65942365 -0.04298669  0.2236282   0.30578886 -0.08815863]\n",
      "[ 0.267563   -0.45226403 -0.1536983  -0.22094552 -1.17111439]\n",
      "[-0.11478032 -0.18049808  1.93976543 -0.58200635 -0.09534485]\n",
      "[-0.61536553 -0.26144795  1.27031665 -0.24107885 -0.17065838]\n",
      "[-0.00723507 -0.03512007 -1.11168308  1.62562552 -0.74245651]\n",
      "[-1.88105207 -0.1243322   0.92494406 -0.07074403  0.78203683]\n",
      "[ 0.24653727 -1.11810585  0.53554403 -0.68496888 -1.46445757]\n"
     ]
    }
   ],
   "source": [
    "from quantpy.mongoclient import MongoData\n",
    "import numpy as np\n",
    "import pandas as pd\n",
    "import math\n",
    "\n",
    "x = pd.Series([math.nan, 2, 5])\n",
    "y = pd.Series([3, math.nan, 8])\n",
    "df = pd.DataFrame([x, y])\n",
    "df = pd.DataFrame(np.random.randn(10, 5),   columns=['a', 'b', 'c', 'd', 'e'])\n",
    "\n",
    "print('a' in df.columns)\n",
    "for item in df.values:\n",
    "    print(item)"
   ]
  },
  {
   "cell_type": "code",
   "execution_count": null,
   "metadata": {
    "collapsed": true
   },
   "outputs": [],
   "source": []
  }
 ],
 "metadata": {
  "kernelspec": {
   "display_name": "Python 3",
   "language": "python",
   "name": "python3"
  },
  "language_info": {
   "codemirror_mode": {
    "name": "ipython",
    "version": 3
   },
   "file_extension": ".py",
   "mimetype": "text/x-python",
   "name": "python",
   "nbconvert_exporter": "python",
   "pygments_lexer": "ipython3",
   "version": "3.5.1"
  }
 },
 "nbformat": 4,
 "nbformat_minor": 0
}
