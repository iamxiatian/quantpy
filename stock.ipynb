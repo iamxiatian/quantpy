{
 "cells": [
  {
   "cell_type": "code",
   "execution_count": 2,
   "metadata": {
    "collapsed": false
   },
   "outputs": [
    {
     "name": "stdout",
     "output_type": "stream",
     "text": [
      "True\n",
      "[-0.46248847 -1.0573859   0.18357255 -0.49258513 -0.15812884]\n",
      "[ 1.36358616 -0.59102535 -0.75050653 -1.87151147  1.04160982]\n",
      "[ 1.60642288  0.66133214  0.53245926 -0.65840455  0.82043816]\n",
      "[-0.12486372 -0.49075719  0.32697196  0.67730586  1.14840499]\n",
      "[ 1.90272942  0.48947429 -0.5946197  -0.57658004  0.76419651]\n",
      "[-1.18184652  0.15541179 -0.99415284  3.35000475 -0.31735286]\n",
      "[-0.13050648 -1.86894931 -1.06159033 -0.2019576  -1.23293237]\n",
      "[-1.58714817 -0.83716314 -2.32659879 -0.23302193 -0.3251474 ]\n",
      "[ 1.46364446  0.21716405 -0.66264542 -0.40578552  0.96029505]\n",
      "[ 0.31713733  1.33316492  1.8801645  -0.57612681  0.69775158]\n"
     ]
    }
   ],
   "source": [
    "from quantpy.mongoclient import MongoData\n",
    "import numpy as np\n",
    "import pandas as pd\n",
    "import math\n",
    "\n",
    "x = pd.Series([math.nan, 2, 5])\n",
    "y = pd.Series([3, math.nan, 8])\n",
    "df = pd.DataFrame([x, y])\n",
    "df = pd.DataFrame(np.random.randn(10, 5),   columns=['a', 'b', 'c', 'd', 'e'])\n",
    "\n",
    "print('a' in df.columns)\n",
    "for item in df.values:\n",
    "    print(item)"
   ]
  },
  {
   "cell_type": "code",
   "execution_count": 3,
   "metadata": {
    "collapsed": false
   },
   "outputs": [],
   "source": [
    "x = np.array([[1,2,3], [4,5,6]])\n",
    "y = np.array([[6., 23.], [-1, 7], [8, 9]])"
   ]
  },
  {
   "cell_type": "code",
   "execution_count": 4,
   "metadata": {
    "collapsed": false
   },
   "outputs": [
    {
     "data": {
      "text/plain": [
       "array([[1, 2, 3],\n",
       "       [4, 5, 6]])"
      ]
     },
     "execution_count": 4,
     "metadata": {},
     "output_type": "execute_result"
    }
   ],
   "source": [
    "x"
   ]
  },
  {
   "cell_type": "code",
   "execution_count": 5,
   "metadata": {
    "collapsed": false
   },
   "outputs": [
    {
     "data": {
      "text/plain": [
       "array([[  6.,  23.],\n",
       "       [ -1.,   7.],\n",
       "       [  8.,   9.]])"
      ]
     },
     "execution_count": 5,
     "metadata": {},
     "output_type": "execute_result"
    }
   ],
   "source": [
    "y"
   ]
  },
  {
   "cell_type": "code",
   "execution_count": 6,
   "metadata": {
    "collapsed": false
   },
   "outputs": [
    {
     "data": {
      "text/plain": [
       "array([[  28.,   64.],\n",
       "       [  67.,  181.]])"
      ]
     },
     "execution_count": 6,
     "metadata": {},
     "output_type": "execute_result"
    }
   ],
   "source": [
    "x.dot(y)"
   ]
  },
  {
   "cell_type": "code",
   "execution_count": 8,
   "metadata": {
    "collapsed": false
   },
   "outputs": [],
   "source": [
    "z = np.ones(3)"
   ]
  },
  {
   "cell_type": "code",
   "execution_count": 9,
   "metadata": {
    "collapsed": false
   },
   "outputs": [
    {
     "data": {
      "text/plain": [
       "array([  6.,  15.])"
      ]
     },
     "execution_count": 9,
     "metadata": {},
     "output_type": "execute_result"
    }
   ],
   "source": [
    "x.dot(z)"
   ]
  },
  {
   "cell_type": "code",
   "execution_count": 15,
   "metadata": {
    "collapsed": false
   },
   "outputs": [
    {
     "data": {
      "text/plain": [
       "array([[-0.69056525,  0.17636923,  0.4721399 , -0.91888505, -0.3064998 ],\n",
       "       [ 0.77357657, -0.42801093, -1.02955894,  1.80728139, -1.04308104],\n",
       "       [-1.40852197,  1.05649887, -0.2912876 ,  0.87876028,  0.34970702],\n",
       "       [ 1.92359759,  0.93538371, -1.1365103 ,  0.31656392,  0.95733607],\n",
       "       [-0.21245284, -0.3817487 , -1.77975279,  1.63927899, -0.82835612]])"
      ]
     },
     "execution_count": 15,
     "metadata": {},
     "output_type": "execute_result"
    }
   ],
   "source": [
    "from numpy.random import randn\n",
    "from numpy.linalg import inv, qr\n",
    "X = randn(5,5)\n",
    "X"
   ]
  },
  {
   "cell_type": "code",
   "execution_count": 16,
   "metadata": {
    "collapsed": false
   },
   "outputs": [
    {
     "data": {
      "text/plain": [
       "array([[-0.69056525,  0.77357657, -1.40852197,  1.92359759, -0.21245284],\n",
       "       [ 0.17636923, -0.42801093,  1.05649887,  0.93538371, -0.3817487 ],\n",
       "       [ 0.4721399 , -1.02955894, -0.2912876 , -1.1365103 , -1.77975279],\n",
       "       [-0.91888505,  1.80728139,  0.87876028,  0.31656392,  1.63927899],\n",
       "       [-0.3064998 , -1.04308104,  0.34970702,  0.95733607, -0.82835612]])"
      ]
     },
     "execution_count": 16,
     "metadata": {},
     "output_type": "execute_result"
    }
   ],
   "source": [
    "X.T"
   ]
  },
  {
   "cell_type": "code",
   "execution_count": 17,
   "metadata": {
    "collapsed": false
   },
   "outputs": [
    {
     "data": {
      "text/plain": [
       "array([[ 6.80459911, -0.06059012, -2.52027604,  1.05553957,  0.92970102],\n",
       "       [-0.06059012,  2.35116408, -0.1674665 , -0.33687386,  1.97355845],\n",
       "       [-2.52027604, -0.1674665 ,  5.8269318 , -5.82780649,  1.21358411],\n",
       "       [ 1.05553957, -0.33687386, -5.82780649,  7.6702837 , -2.35104294],\n",
       "       [ 0.92970102,  1.97355845,  1.21358411, -2.35104294,  2.90692139]])"
      ]
     },
     "execution_count": 17,
     "metadata": {},
     "output_type": "execute_result"
    }
   ],
   "source": [
    "mat = X.T.dot(X)\n",
    "mat"
   ]
  },
  {
   "cell_type": "code",
   "execution_count": 18,
   "metadata": {
    "collapsed": false
   },
   "outputs": [
    {
     "data": {
      "text/plain": [
       "array([[ 0.33381045,  0.46110434,  0.34693676,  0.0862125 , -0.49492495],\n",
       "       [ 0.46110434,  2.00148342,  0.40656369, -0.23983189, -1.87001548],\n",
       "       [ 0.34693676,  0.40656369,  1.1650935 ,  0.78132558, -0.24146977],\n",
       "       [ 0.0862125 , -0.23983189,  0.78132558,  0.85506613,  0.5006201 ],\n",
       "       [-0.49492495, -1.87001548, -0.24146977,  0.5006201 ,  2.27757804]])"
      ]
     },
     "execution_count": 18,
     "metadata": {},
     "output_type": "execute_result"
    }
   ],
   "source": [
    "inv(mat)"
   ]
  },
  {
   "cell_type": "code",
   "execution_count": 19,
   "metadata": {
    "collapsed": false
   },
   "outputs": [
    {
     "data": {
      "text/plain": [
       "array([[  1.00000000e+00,   2.22044605e-16,  -8.32667268e-17,\n",
       "         -1.11022302e-16,   0.00000000e+00],\n",
       "       [  1.11022302e-16,   1.00000000e+00,   0.00000000e+00,\n",
       "         -1.11022302e-16,  -8.88178420e-16],\n",
       "       [  3.33066907e-16,  -4.44089210e-16,   1.00000000e+00,\n",
       "          7.77156117e-16,   0.00000000e+00],\n",
       "       [  0.00000000e+00,   8.88178420e-16,  -4.44089210e-16,\n",
       "          1.00000000e+00,   0.00000000e+00],\n",
       "       [ -2.22044605e-16,   0.00000000e+00,   0.00000000e+00,\n",
       "         -2.22044605e-16,   1.00000000e+00]])"
      ]
     },
     "execution_count": 19,
     "metadata": {},
     "output_type": "execute_result"
    }
   ],
   "source": [
    "mat.dot(inv(mat))"
   ]
  },
  {
   "cell_type": "code",
   "execution_count": 20,
   "metadata": {
    "collapsed": true
   },
   "outputs": [],
   "source": [
    "q,r = qr(mat)"
   ]
  },
  {
   "cell_type": "code",
   "execution_count": 23,
   "metadata": {
    "collapsed": false
   },
   "outputs": [
    {
     "data": {
      "text/plain": [
       "array([[-0.92057876,  0.07393239, -0.30878282, -0.15876688, -0.16283423],\n",
       "       [ 0.0081971 , -0.76190386,  0.17215708, -0.10613581, -0.61524991],\n",
       "       [ 0.34096242,  0.03411833, -0.59479173, -0.72283593, -0.07944547],\n",
       "       [-0.14280155,  0.1175207 ,  0.70740076, -0.66200607,  0.16470798],\n",
       "       [-0.12577714, -0.63171302, -0.14429854, -0.0527678 ,  0.74934122]])"
      ]
     },
     "execution_count": 23,
     "metadata": {},
     "output_type": "execute_result"
    }
   ],
   "source": [
    "q"
   ]
  },
  {
   "cell_type": "code",
   "execution_count": 22,
   "metadata": {
    "collapsed": false
   },
   "outputs": [
    {
     "data": {
      "text/plain": [
       "array([[-7.39165335, -0.18217151,  4.98508332, -3.76115269, -0.45579065],\n",
       "       [ 0.        , -3.08786645, -1.31145624,  2.52247056, -3.50615762],\n",
       "       [ 0.        ,  0.        , -7.01413659,  8.84761998, -2.75173751],\n",
       "       [ 0.        ,  0.        ,  0.        , -0.87299744,  0.16871969],\n",
       "       [ 0.        ,  0.        ,  0.        ,  0.        ,  0.32900792]])"
      ]
     },
     "execution_count": 22,
     "metadata": {},
     "output_type": "execute_result"
    }
   ],
   "source": [
    "r"
   ]
  },
  {
   "cell_type": "code",
   "execution_count": null,
   "metadata": {
    "collapsed": true
   },
   "outputs": [],
   "source": []
  }
 ],
 "metadata": {
  "kernelspec": {
   "display_name": "Python 3",
   "language": "python",
   "name": "python3"
  },
  "language_info": {
   "codemirror_mode": {
    "name": "ipython",
    "version": 3
   },
   "file_extension": ".py",
   "mimetype": "text/x-python",
   "name": "python",
   "nbconvert_exporter": "python",
   "pygments_lexer": "ipython3",
   "version": "3.5.1"
  }
 },
 "nbformat": 4,
 "nbformat_minor": 0
}
